{
  "nbformat": 4,
  "nbformat_minor": 0,
  "metadata": {
    "colab": {
      "name": "gppass.ipynb",
      "provenance": [],
      "include_colab_link": true
    },
    "kernelspec": {
      "name": "python3",
      "display_name": "Python 3"
    },
    "language_info": {
      "name": "python"
    }
  },
  "cells": [
    {
      "cell_type": "markdown",
      "metadata": {
        "id": "view-in-github",
        "colab_type": "text"
      },
      "source": [
        "<a href=\"https://colab.research.google.com/github/TheCaduceus/GDTOT/blob/main/Link-Pass.ipynb\" target=\"_parent\"><img src=\"https://colab.research.google.com/assets/colab-badge.svg\" alt=\"Open In Colab\"/></a>"
      ]
    },
    {
      "cell_type": "markdown",
      "source": [
        "**Enter GP-LINK Below!**"
      ],
      "metadata": {
        "id": "vIuY_F5gVVm2"
      }
    },
    {
      "cell_type": "code",
      "source": [
        "#@markdown <center><img src='https://gplinks.in/img/gp-logo.png' height=\"100\">\n",
        "#@title <b><center>Enter GP-LINK Below</center></b>\n",
        "print(\"Downloading Cloud-Scraper...\")\n",
        "!pip install cloudscraper\n",
        "print(\"Setting Up!\")\n",
        "print(\"Performing Check...\")\n",
        "import time\n",
        "import requests\n",
        "import cloudscraper\n",
        "from bs4 import BeautifulSoup\n",
        "from urllib.parse import urlparse\n",
        "print(\"Everything Looks Good! Lets Continue.\")\n",
        "\n",
        "url = \"LINK HERE\" #@param {type:\"string\"} \n",
        "print(\"Entered Link:\")\n",
        "print(url)\n",
        "print(\"Checking Link...\")\n",
        "print(\"Checking Done!\")\n",
        "# ==============================================\n",
        "print(\"Bypassing the Link...\")\n",
        "def gplinks_bypass(url):\n",
        "    scraper = cloudscraper.create_scraper(allow_brotli=False)\n",
        "    res = scraper.get(url)\n",
        "    \n",
        "    h = { \"referer\": res.url }\n",
        "    res = scraper.get(url, headers=h)\n",
        "    \n",
        "    bs4 = BeautifulSoup(res.content, 'lxml')\n",
        "    inputs = bs4.find_all('input')\n",
        "    data = { input.get('name'): input.get('value') for input in inputs }\n",
        "\n",
        "    h = {\n",
        "        'content-type': 'application/x-www-form-urlencoded',\n",
        "        'x-requested-with': 'XMLHttpRequest'\n",
        "    }\n",
        "    \n",
        "    time.sleep(10) # !important\n",
        "    \n",
        "    p = urlparse(url)\n",
        "    final_url = f'{p.scheme}://{p.netloc}/links/go'\n",
        "    res = scraper.post(final_url, data=data, headers=h).json()\n",
        "\n",
        "    return res\n",
        "\n",
        "# ==============================================\n",
        "\n",
        "print(gplinks_bypass(url))\n",
        "print(\"Confirming Link...\")\n",
        "print(\"Successfully Bypassed!\")"
      ],
      "metadata": {
        "cellView": "form",
        "id": "PHCG2iGQgDhz"
      },
      "execution_count": null,
      "outputs": []
    },
    {
      "cell_type": "markdown",
      "source": [
        "**Enter GDTOT Link as well as your GDTOT Crypt! If you don't know how to get Crypt then <a href=\"https://www.youtube.com/watch?v=EfZ29CotRSU\">Learn Here</a>**"
      ],
      "metadata": {
        "id": "cyBiaGkAUtLi"
      }
    },
    {
      "cell_type": "code",
      "source": [
        "#@markdown <center><img src='https://gdtot.one/assets/img/gdtot.png' height=\"100\">\n",
        "#@title <b><center>Enter GDTOT-LINK Below</center></b>\n",
        "print(\"Importing Files!\")\n",
        "import re\n",
        "import base64\n",
        "import requests\n",
        "from urllib.parse import urlparse, parse_qs\n",
        "\n",
        "URL = \"\" #@param {type:\"string\"}\n",
        "crypt = \"\" #@param {type:\"string\"}\n",
        "print(\"You have Entered:\")\n",
        "print(\"URL:\")\n",
        "print(URL)\n",
        "print(\"Crypt:\")\n",
        "print(crypt)\n",
        "# ==========================================\n",
        "print(\"Bypassing Link...\")\n",
        "def parse_info(res):\n",
        "    title = re.findall(\">(.*?)<\\/h5>\", res.text)[0]\n",
        "    info = re.findall('<td\\salign=\"right\">(.*?)<\\/td>', res.text)\n",
        "    parsed_info = {\n",
        "        'error': True,\n",
        "        'message': 'Link Invalid.',\n",
        "        'title': title,\n",
        "        'size': info[0],\n",
        "        'date': info[1]\n",
        "    }\n",
        "    return parsed_info\n",
        "\n",
        "# ==========================================\n",
        "\n",
        "def gdtot_dl(url):\n",
        "    client = requests.Session()\n",
        "    client.cookies.update({ 'crypt': crypt })\n",
        "    res = client.get(url)\n",
        "\n",
        "    info = parse_info(res)\n",
        "    info['src_url'] = url\n",
        "\n",
        "    res = client.get(f\"https://new.gdtot.top/dld?id={url.split('/')[-1]}\")\n",
        "    \n",
        "    try:\n",
        "        url = re.findall('URL=(.*?)\"', res.text)[0]\n",
        "    except:\n",
        "        info['message'] = 'The requested URL could not be retrieved.',\n",
        "        return info\n",
        "\n",
        "    params = parse_qs(urlparse(url).query)\n",
        "    \n",
        "    if 'msgx' in params:\n",
        "        info['message'] = params['msgx'][0]\n",
        "    \n",
        "    if 'gd' not in params or not params['gd'] or params['gd'][0] == 'false':\n",
        "        return info\n",
        "    \n",
        "    try:\n",
        "        decoded_id = base64.b64decode(str(params['gd'][0])).decode('utf-8')\n",
        "        gdrive_url = f'https://drive.google.com/open?id={decoded_id}'\n",
        "        info['message'] = 'Success.'\n",
        "    except:\n",
        "        info['error'] = True\n",
        "        return info\n",
        "\n",
        "    info['gdrive_link'] = gdrive_url\n",
        "    \n",
        "    return info\n",
        "    \n",
        "# ==========================================\n",
        "\n",
        "info = gdtot_dl(URL)\n",
        "\n",
        "print(info)\n",
        "print(\"Bypassed Successfully!\")"
      ],
      "metadata": {
        "cellView": "form",
        "id": "pJCdd8LESBAk"
      },
      "execution_count": null,
      "outputs": []
    }
  ]
}