{
  "nbformat": 4,
  "nbformat_minor": 0,
  "metadata": {
    "colab": {
      "name": "gppass.ipynb",
      "provenance": [],
      "include_colab_link": true
    },
    "kernelspec": {
      "name": "python3",
      "display_name": "Python 3"
    },
    "language_info": {
      "name": "python"
    }
  },
  "cells": [
    {
      "cell_type": "markdown",
      "metadata": {
        "id": "view-in-github",
        "colab_type": "text"
      },
      "source": [
        "<a href=\"https://colab.research.google.com/github/TheCaduceus/GDTOT/blob/main/GP-LINK-BYPASSER.ipynb\" target=\"_parent\"><img src=\"https://colab.research.google.com/assets/colab-badge.svg\" alt=\"Open In Colab\"/></a>"
      ]
    },
    {
      "cell_type": "code",
      "source": [
        "#@markdown <center><img src='https://gplinks.in/img/gp-logo.png' height=\"100\">\n",
        "#@title <b><center>Enter GP-LINK Below</center></b>\n",
        "print(\"Downloading Cloud-Scraper...\")\n",
        "!pip install cloudscraper\n",
        "print(\"Setting Up!\")\n",
        "print(\"Performing Check...\")\n",
        "import time\n",
        "import requests\n",
        "import cloudscraper\n",
        "from bs4 import BeautifulSoup\n",
        "from urllib.parse import urlparse\n",
        "print(\"Everything Looks Good! Lets Continue.\")\n",
        "\n",
        "url = \"LINK HERE\" #@param {type:\"string\"} \n",
        "print(\"Entered Link:\")\n",
        "print(url)\n",
        "print(\"Checking Link...\")\n",
        "print(\"Checking Done!\")\n",
        "# ==============================================\n",
        "print(\"Bypassing the Link...\")\n",
        "def gplinks_bypass(url):\n",
        "    scraper = cloudscraper.create_scraper(allow_brotli=False)\n",
        "    res = scraper.get(url)\n",
        "    \n",
        "    h = { \"referer\": res.url }\n",
        "    res = scraper.get(url, headers=h)\n",
        "    \n",
        "    bs4 = BeautifulSoup(res.content, 'lxml')\n",
        "    inputs = bs4.find_all('input')\n",
        "    data = { input.get('name'): input.get('value') for input in inputs }\n",
        "\n",
        "    h = {\n",
        "        'content-type': 'application/x-www-form-urlencoded',\n",
        "        'x-requested-with': 'XMLHttpRequest'\n",
        "    }\n",
        "    \n",
        "    time.sleep(10) # !important\n",
        "    \n",
        "    p = urlparse(url)\n",
        "    final_url = f'{p.scheme}://{p.netloc}/links/go'\n",
        "    res = scraper.post(final_url, data=data, headers=h).json()\n",
        "\n",
        "    return res\n",
        "\n",
        "# ==============================================\n",
        "\n",
        "print(gplinks_bypass(url))\n",
        "print(\"Confirming Link...\")\n",
        "print(\"Successfully Bypassed!\")"
      ],
      "metadata": {
        "cellView": "form",
        "id": "PHCG2iGQgDhz"
      },
      "execution_count": null,
      "outputs": []
    }
  ]
}